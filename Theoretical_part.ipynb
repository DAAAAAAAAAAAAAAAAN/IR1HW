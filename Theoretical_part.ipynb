{
 "cells": [
  {
   "cell_type": "markdown",
   "metadata": {},
   "source": [
    "## Theoretical part"
   ]
  },
  {
   "cell_type": "markdown",
   "metadata": {},
   "source": [
    "### Exercise 1: Hypothesis Testing - the problem of multiple comparisons (5 points)"
   ]
  },
  {
   "cell_type": "markdown",
   "metadata": {},
   "source": [
    "The type I error occurs in situations where the null hypothesis is rejected while $H_0$ is true and must not be rejected. Thus, the probability of making an incorrect decision on the statisitical significance for a given experiment is $P ($type I error$) = alpha$. Conversely, the probability of the correct rejection of the null hypothesis is $P ($correct $H_0$ rejection$) = 1 - alpha$. <br><br>\n",
    "_Main question w.r.t. (a): are we supposed to estimate the prob of (one?) m-th significant result or (one?) m-th FALSE significant result as follows from the plot in slide 35, lecture 2b?_ <br>\n",
    "(a) <br>Interpretation 1:<br>\n",
    "$P ($not making a type I error in $(m - 1)$ experiments but making it in the m-th experiment alone$) = (1 - alpha)^{m-1}*alpha$<br>\n",
    "Interpretation 2:<br>\n",
    "$P ($not making a type I error in $m$ experiments$) = (1 - alpha)^m$<br>\n",
    "\n",
    "(b) For a series of $m$ experiments, we can estimate the probability of having performed at least one significant experiment as the inverse probability of making Type I error in all $m$ tests. Thus, <br>\n",
    "Interpretation 1:<br>\n",
    "$P ($type I error in one experiment$) = alpha$<br>\n",
    "$P ($type I error in all $m$ experiments$) = alpha^m$<br>\n",
    "$P ($at least one significant experiment$) = 1 - alpha^m$<br>\n",
    "Interpretation 2 (one FALSE significant result):<br>\n",
    "$P ($type I error in one experiment$) = alpha$<br>\n",
    "$P ($not making a type I error in one experiment$) = 1 - alpha$<br>\n",
    "$P ($not making a type I error in all $m$ experiments$) = {(1 - alpha)}^m$<br>\n",
    "$P ($at least one FALSE significant experiment in $m$ experiments$) = 1 - {(1 - alpha)}^m$<br>"
   ]
  },
  {
   "cell_type": "markdown",
   "metadata": {},
   "source": [
    "### Exercise 2: Bias and unfairness in Interleaving experiments (10 points)"
   ]
  },
  {
   "cell_type": "markdown",
   "metadata": {},
   "source": [
    "The team-draft interleaving method makes an incorrect judgement when, for instance, there exists only one relevant (clicked) document and it is ranked differently by two different algorithms. <br>\n",
    "Let us consider the following example. Given two ranking algorithms A and B, we assume that these algorithms operate on a collection of three documents ($d_1$, $d_2$, $d_3$) where only one of them (say, $d_3$, is relevant). Hence, algorithm A ranks the documents in the following order: $d_1: N$, $d_2:R$, $d_3:N$ while algorithm B ranks them as follows: $d_2: R$, $d_3:N$, $d_1:N$. Intuitively, algorithm B must win the competition as it assigns a higher rank to the only relevant document. However, this does not take place in reality if the team-draft interleaving method is applied. <br>\n",
    "As the order of picking the documents is randomized, there exist four possible assignments (\"ABA\", \"ABB\", \"BAA\", \"BAB\"), which represent the order in which each algorithm (encoded as a literal in a given sequence) picks a preferred document. The resulting rankings are as follows: <br><br>\n",
    "**ABA**: \n",
    "> {$d_1: N$} (from A), {$d_2: N$} (from B), {$d_3: R$} (from A)\n",
    "\n",
    "**ABB**: \n",
    "> {$d_1: N$} (from A), {$d_2: N$} (from B), {$d_3: R$} (from B)\n",
    "\n",
    "**BAA**: \n",
    "> {$d_2: N$} (from B), {$d_1: N$} (from A), {$d_3: R$} (from A)\n",
    "\n",
    "**BAB**: \n",
    "> {$d_2: N$} (from B), {$d_1: N$} (from A), {$d_3: R$} (from B)\n",
    "\n",
    "We can observe that the only relevant document $d_3$ is ranked to appear third in all the assignments. As a result, the team-draft method considers this situation a tie while it is clear from the initial conditions that algorithm B should be preferred over algorithm A. In conclusion, the case described above represents a situation where the team-draft interleaving method incorrectly evaluates given ranking algorithms."
   ]
  },
  {
   "cell_type": "markdown",
   "metadata": {},
   "source": [
    "## Experimental part"
   ]
  },
  {
   "cell_type": "markdown",
   "metadata": {},
   "source": [
    "### Step 1: Simulate Rankings of Relevance for _E_ and _P_ (5 points)"
   ]
  },
  {
   "cell_type": "code",
   "execution_count": null,
   "metadata": {
    "collapsed": true
   },
   "outputs": [],
   "source": []
  }
 ],
 "metadata": {
  "kernelspec": {
   "display_name": "Python 2",
   "language": "python",
   "name": "python2"
  },
  "language_info": {
   "codemirror_mode": {
    "name": "ipython",
    "version": 2
   },
   "file_extension": ".py",
   "mimetype": "text/x-python",
   "name": "python",
   "nbconvert_exporter": "python",
   "pygments_lexer": "ipython2",
   "version": "2.7.14"
  }
 },
 "nbformat": 4,
 "nbformat_minor": 2
}
