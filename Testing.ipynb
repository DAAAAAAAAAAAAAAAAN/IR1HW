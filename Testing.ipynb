{
 "cells": [
  {
   "cell_type": "code",
   "execution_count": 53,
   "metadata": {},
   "outputs": [
    {
     "name": "stdout",
     "output_type": "stream",
     "text": [
      "59049 pairs of rankings\n",
      "MAP (P) after 59048 results: 0.39938612403212703\n",
      "MAP (E) after 59048 results: 0.3993861240321601\n"
     ]
    }
   ],
   "source": [
    "import pyndri\n",
    "import itertools\n",
    "from collections import Counter\n",
    "\n",
    "relevances = { 'N', 'R', 'HR' }\n",
    "rankingsOf5 = list(itertools.product(relevances, repeat=5))\n",
    "pairsOfRankingsOf5 = list(itertools.product(rankingsOf5, rankingsOf5))\n",
    "print(len(pairsOfRankingsOf5), \"pairs of rankings\")\n",
    "\n",
    "def getContingencies (items, k, relevantDocumentCount):\n",
    "    retrievedCounter = Counter(items[:k])\n",
    "    TP = retrievedCounter['R'] + retrievedCounter['HR']\n",
    "    FP = retrievedCounter['N']\n",
    "    \n",
    "    notRetrievedCounter = Counter(items[k:])\n",
    "    TN = notRetrievedCounter['N']\n",
    "    FN = relevantDocumentCount - TP\n",
    "    \n",
    "    return TP, FP, TN, FN\n",
    "\n",
    "def getAveragePrecision (ranking, relevantDocumentCount):\n",
    "    precisionsForAp = []\n",
    "    for k in range(1, len(ranking)+1):\n",
    "        TP, FP, TN, FN = getContingencies(ranking, k, relevantDocumentCount)\n",
    "        precisionAtK = TP / (TP + FP)\n",
    "        recallAtK = TP / (TP + FN)\n",
    "        F1AtK = 2*precisionAtK*recallAtK\n",
    "        if F1AtK > 0.0: \n",
    "            F1AtK /= precisionAtK + recallAtK\n",
    "        accuracyAtK = (TP + TN)/(TP + FP + FN + TN)\n",
    "\n",
    "        if ranking[k-1] == 'R' or ranking[k-1] == 'HR':\n",
    "            # save for calculating AP later\n",
    "            precisionsForAp.append(precisionAtK)\n",
    "    \n",
    "    averagePrecision = sum(precisionsForAp)/relevantDocumentCount\n",
    "    return averagePrecision\n",
    "\n",
    "averagePrecisionsForMapP = []\n",
    "averagePrecisionsForMapE = []\n",
    "for i, rankingPair in enumerate(pairsOfRankingsOf5):\n",
    "    P = rankingPair[0]\n",
    "    E = rankingPair[1]\n",
    "    \n",
    "    # show the pair\n",
    "#     print ('\\nP: ', P, '\\nE: ', E, '\\n')\n",
    "\n",
    "    \n",
    "    # implement 1 of (binary):\n",
    "    #   precision at rank k\n",
    "    #   recall at rank k\n",
    "    #   average precision   <--\n",
    "    totalCounter = Counter(P) + Counter(E)\n",
    "    relevantDocumentCount = totalCounter['R'] + totalCounter['HR']\n",
    "    \n",
    "    if relevantDocumentCount == 0:\n",
    "        # result is irrelevant\n",
    "        continue\n",
    "        \n",
    "    averagePrecisionP = getAveragePrecision(P, relevantDocumentCount)\n",
    "    averagePrecisionE = getAveragePrecision(E, relevantDocumentCount)\n",
    "    \n",
    "    # save for calculating MAP later\n",
    "    averagePrecisionsForMapP.append(averagePrecisionP)\n",
    "    averagePrecisionsForMapE.append(averagePrecisionE)\n",
    "\n",
    "    # implement 2 of (multi-graded):\n",
    "    #   nDCG at rank k\n",
    "    #   ERR\n",
    "    \n",
    "    \n",
    "    # only try a few for now\n",
    "#     if i >= 10000:\n",
    "#         break;\n",
    "        \n",
    "        \n",
    "        \n",
    "meanAveragePrecisionP = sum(averagePrecisionsForMapP)/len(averagePrecisionsForMapP)\n",
    "meanAveragePrecisionE = sum(averagePrecisionsForMapE)/len(averagePrecisionsForMapE)\n",
    "print('MAP (P) after {} results: {}'.format(len(averagePrecisionsForMapP), meanAveragePrecisionP))\n",
    "print('MAP (E) after {} results: {}'.format(len(averagePrecisionsForMapE), meanAveragePrecisionE))"
   ]
  },
  {
   "cell_type": "code",
   "execution_count": null,
   "metadata": {
    "collapsed": true
   },
   "outputs": [],
   "source": []
  }
 ],
 "metadata": {
  "kernelspec": {
   "display_name": "Python 3",
   "language": "python",
   "name": "python3"
  },
  "language_info": {
   "codemirror_mode": {
    "name": "ipython",
    "version": 3
   },
   "file_extension": ".py",
   "mimetype": "text/x-python",
   "name": "python",
   "nbconvert_exporter": "python",
   "pygments_lexer": "ipython3",
   "version": "3.6.3"
  }
 },
 "nbformat": 4,
 "nbformat_minor": 2
}
